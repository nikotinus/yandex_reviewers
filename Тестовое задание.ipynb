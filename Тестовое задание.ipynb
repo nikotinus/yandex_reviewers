{
 "cells": [
  {
   "cell_type": "code",
   "execution_count": 161,
   "id": "5a411997",
   "metadata": {},
   "outputs": [],
   "source": [
    "import pandas as pd"
   ]
  },
  {
   "cell_type": "code",
   "execution_count": 162,
   "id": "8de83e0b",
   "metadata": {},
   "outputs": [],
   "source": [
    "df = pd.read_csv(\"movie_metadata.csv\")"
   ]
  },
  {
   "cell_type": "code",
   "execution_count": 163,
   "id": "6b585ecf",
   "metadata": {},
   "outputs": [
    {
     "name": "stdout",
     "output_type": "stream",
     "text": [
      "<class 'pandas.core.frame.DataFrame'>\n",
      "RangeIndex: 5043 entries, 0 to 5042\n",
      "Data columns (total 28 columns):\n",
      " #   Column                     Non-Null Count  Dtype  \n",
      "---  ------                     --------------  -----  \n",
      " 0   color                      5024 non-null   object \n",
      " 1   director_name              4939 non-null   object \n",
      " 2   num_critic_for_reviews     4993 non-null   float64\n",
      " 3   duration                   5028 non-null   float64\n",
      " 4   director_facebook_likes    4939 non-null   float64\n",
      " 5   actor_3_facebook_likes     5020 non-null   float64\n",
      " 6   actor_2_name               5030 non-null   object \n",
      " 7   actor_1_facebook_likes     5036 non-null   float64\n",
      " 8   gross                      4159 non-null   float64\n",
      " 9   genres                     5043 non-null   object \n",
      " 10  actor_1_name               5036 non-null   object \n",
      " 11  movie_title                5043 non-null   object \n",
      " 12  num_voted_users            5043 non-null   int64  \n",
      " 13  cast_total_facebook_likes  5043 non-null   int64  \n",
      " 14  actor_3_name               5020 non-null   object \n",
      " 15  facenumber_in_poster       5030 non-null   float64\n",
      " 16  plot_keywords              4890 non-null   object \n",
      " 17  movie_imdb_link            5043 non-null   object \n",
      " 18  num_user_for_reviews       5022 non-null   float64\n",
      " 19  language                   5031 non-null   object \n",
      " 20  country                    5038 non-null   object \n",
      " 21  content_rating             4740 non-null   object \n",
      " 22  budget                     5043 non-null   object \n",
      " 23  title_year                 4935 non-null   float64\n",
      " 24  actor_2_facebook_likes     5030 non-null   float64\n",
      " 25  imdb_score                 5043 non-null   float64\n",
      " 26  aspect_ratio               4714 non-null   float64\n",
      " 27  movie_facebook_likes       5043 non-null   int64  \n",
      "dtypes: float64(12), int64(3), object(13)\n",
      "memory usage: 1.1+ MB\n"
     ]
    }
   ],
   "source": [
    "df.info()"
   ]
  },
  {
   "cell_type": "code",
   "execution_count": 164,
   "id": "1a90bd48",
   "metadata": {},
   "outputs": [
    {
     "data": {
      "text/plain": [
       "5028"
      ]
     },
     "execution_count": 164,
     "metadata": {},
     "output_type": "execute_result"
    }
   ],
   "source": [
    "df.duration.value_counts().sort_index().sum()"
   ]
  },
  {
   "cell_type": "markdown",
   "id": "2ade645a",
   "metadata": {},
   "source": [
    "Сколько пропущенных значений содержится в колонке duration?"
   ]
  },
  {
   "cell_type": "code",
   "execution_count": 246,
   "id": "567fff19",
   "metadata": {},
   "outputs": [
    {
     "data": {
      "text/plain": [
       "15"
      ]
     },
     "execution_count": 246,
     "metadata": {},
     "output_type": "execute_result"
    }
   ],
   "source": [
    "df.shape[0]-df.duration.value_counts().sort_index().sum()"
   ]
  },
  {
   "cell_type": "markdown",
   "id": "eab58a82",
   "metadata": {},
   "source": [
    "Замените пропущенные значения в колонке duration медианным значением этой колонки.\n",
    "\n",
    "Какое среднее арифметическое по длительности фильма? Ответ дайте числом с плавающей запятой с округлением до 2 знаков после запятой включительно.\n"
   ]
  },
  {
   "cell_type": "code",
   "execution_count": 247,
   "id": "07fd693b",
   "metadata": {},
   "outputs": [
    {
     "data": {
      "text/plain": [
       "107.19"
      ]
     },
     "execution_count": 247,
     "metadata": {},
     "output_type": "execute_result"
    }
   ],
   "source": [
    "round((df\n",
    " .fillna(df.duration.median())\n",
    " .duration.describe()\n",
    " .get(\"mean\")\n",
    "),2)"
   ]
  },
  {
   "cell_type": "markdown",
   "id": "7dfa26b8",
   "metadata": {},
   "source": [
    "Cоздайте колонку movie_duration_category, которая содержала бы 3 категории в зависимости от длительности фильма:\n",
    "\n",
    "Категория \"1. < 90\", если фильм длится менее 90 минут;\n",
    "Категория \"2. 90-120\", если фильм длится от 90 минут до 2 часов (включительно);\n",
    "Категория \"3. > 120\", если фильм длится больше 2 часов.\n",
    "Постройте сводную таблицу для фильмов с годом выпуска после 2000 (включительно), которая отражала бы количество фильмов:\n",
    "\n",
    "В строках таблицы - год;\n",
    "В столбцах таблицы - категория длительности фильма (\"< 90\", \"90-120\", \"> 120\");\n",
    "Год фильма должен быть представлен в формате YYYY\n",
    "Сколько фильмов с длительностью от 90 минут до 2 часов было выпущено в 2008 году?"
   ]
  },
  {
   "cell_type": "code",
   "execution_count": 251,
   "id": "7a24310b",
   "metadata": {},
   "outputs": [
    {
     "data": {
      "text/plain": [
       "160"
      ]
     },
     "execution_count": 251,
     "metadata": {},
     "output_type": "execute_result"
    }
   ],
   "source": [
    "df_1 = df.assign(movie_duration_category=\"1. < 90\")\n",
    "df_1.loc[df_1.duration >= 90, \"movie_duration_category\"] = \"2. 90-120\"\n",
    "df_1.loc[df_1.duration > 120, \"movie_duration_category\"] = \"3. > 120\"\n",
    "(df_1\n",
    " .loc[df_1.title_year==2008]\n",
    " .movie_duration_category.value_counts()\n",
    " ).loc[\"2. 90-120\"]"
   ]
  },
  {
   "cell_type": "markdown",
   "id": "6b8ff25e",
   "metadata": {},
   "source": [
    "Колонка plot_keywords содержит ключевые слова, характеризующие сюжет фильма. На основе данных этой колонки создайте колонку movie_plot_category, которая содержала бы 4 категории в зависимости от ключевых слов в колонке:\n",
    "\n",
    "- Категория \"love_and_death\", если ключевые слова содержат и ключевое слово \"love\" и ключевое слово \"death\";\n",
    "- Категория \"love\", если ключевые слова содержат ключевое слово \"love\";\n",
    "- Категория \"death\", если ключевые слова содержат ключевое слово \"death\";\n",
    "- Категория \"other\", если ключевые слова не соответствуют перечисленным выше условиям.\n",
    "Обратите внимание на разделитель ключевых слов. Подумайте о том как правильно определять наличие ключевого слова в списке ключевых слов.\n",
    "\n",
    "В колонке imdb_score указан пользовательский рейтинг фильма. Постройте таблицу, которая отражала бы средний рейтинг фильмов в зависимости от принадлежности к категории movie_plot_category.\n",
    "\n",
    "Какой средний рейтинг у фильмов категории \"love\"? Ответ дайте числом с плавающей запятой с округлением до 2 знаков после запятой включительно."
   ]
  },
  {
   "cell_type": "code",
   "execution_count": 275,
   "id": "a1652031",
   "metadata": {},
   "outputs": [
    {
     "name": "stdout",
     "output_type": "stream",
     "text": [
      "                    imdb_score               \n",
      "                          mean count      sum\n",
      "movie_plot_category                          \n",
      "death                 6.519886   176   1147.5\n",
      "love                  6.588987   227   1495.7\n",
      "love_and_death        6.672727    11     73.4\n",
      "other                 6.431432  4629  29771.1\n"
     ]
    },
    {
     "data": {
      "text/plain": [
       "6.59"
      ]
     },
     "execution_count": 275,
     "metadata": {},
     "output_type": "execute_result"
    }
   ],
   "source": [
    "def love_criteria(df):\n",
    "    criteria = df[1]\n",
    "    for clmn in df.columns:\n",
    "        criteria = (criteria) | df[clmn]\n",
    "    return criteria\n",
    "\n",
    "new_df = df.assign(movie_plot_category = \"other\")\n",
    "new_df.loc[\n",
    "     (lambda x: x\n",
    "      .plot_keywords.str.lower().str.split(r\"[|\\s]\", expand=True)\n",
    "      .isin([\"love\"])\n",
    "      .pipe(love_criteria)\n",
    "     ),\n",
    "    \"movie_plot_category\" \n",
    " ] = \"love\"\n",
    "new_df.loc[\n",
    "     (lambda x: x\n",
    "      .plot_keywords.str.lower().str.split(r\"[|\\s]\", expand=True)\n",
    "      .isin([\"death\"])\n",
    "      .pipe(love_criteria)\n",
    "     ),\n",
    "    \"movie_plot_category\" \n",
    " ] = \"death\"\n",
    "condition = (new_df\n",
    "      .plot_keywords.str.lower().str.split(r\"[|\\s]\", expand=True)\n",
    "      .isin([\"death\"])\n",
    "      .pipe(love_criteria)\n",
    "     ) & (new_df\n",
    "      .plot_keywords.str.lower().str.split(r\"[|\\s]\", expand=True)\n",
    "      .isin([\"love\"])\n",
    "      .pipe(love_criteria)\n",
    "     )\n",
    "new_df.movie_plot_category.where(~(condition), other=\"love_and_death\", inplace=True)\n",
    "print(new_df.groupby(\"movie_plot_category\").agg({\"imdb_score\": [\"mean\", \"count\", \"sum\"]}))\n",
    "\n",
    "round(new_df.groupby(\"movie_plot_category\").agg({\"imdb_score\": \"mean\"}).loc[\"love\", \"imdb_score\"], 2)"
   ]
  },
  {
   "cell_type": "markdown",
   "id": "1854e4a8",
   "metadata": {},
   "source": [
    "Колонка budget - бюджет фильма. Какой медианный бюджет всех представленных фильмов? Ответ дайте целым числом."
   ]
  },
  {
   "cell_type": "code",
   "execution_count": 280,
   "id": "4edfd42d",
   "metadata": {},
   "outputs": [
    {
     "data": {
      "text/plain": [
       "count     5043\n",
       "unique     440\n",
       "top       0.0$\n",
       "freq       492\n",
       "Name: budget, dtype: object"
      ]
     },
     "execution_count": 280,
     "metadata": {},
     "output_type": "execute_result"
    }
   ],
   "source": [
    "df.budget.describe()"
   ]
  },
  {
   "cell_type": "code",
   "execution_count": 299,
   "id": "f33d46a2",
   "metadata": {},
   "outputs": [
    {
     "data": {
      "text/plain": [
       "15000000.0"
      ]
     },
     "execution_count": 299,
     "metadata": {},
     "output_type": "execute_result"
    }
   ],
   "source": [
    "df.budget.str.split(\"$\", expand=True)[0].astype(\"float\").sort_values().median()\n"
   ]
  },
  {
   "cell_type": "markdown",
   "id": "81735532",
   "metadata": {},
   "source": [
    "## Вторая часть"
   ]
  },
  {
   "cell_type": "markdown",
   "id": "679cb12b",
   "metadata": {},
   "source": [
    "Загрузите датасет event_data.csv, который содержит данные использования мобильного приложения пользователей, зарегистрировавшихся в период с 29 июля по 1 сентября 2019 года:\n",
    "\n",
    "user_id - идентификатор пользователя;\n",
    "event_date - время совершения события;\n",
    "event_type - тип события: registration - регистрация в приложении; simple_event - событие клика в приложении; purchase - событие покупки внутри приложения; purchase_amount - величина покупки.\n",
    "Выделите когорты пользователей на основе недели регистрации в приложении. Идентификатором когорты должен быть порядковый номер недели (например, неделя с 29 июля по 4 августа должна иметь идентификатор 31).\n",
    "\n",
    "Какое количество уникальных пользователей в когорте с идентификатором 33?\n"
   ]
  },
  {
   "cell_type": "code",
   "execution_count": null,
   "id": "96f12dea",
   "metadata": {},
   "outputs": [],
   "source": []
  }
 ],
 "metadata": {
  "kernelspec": {
   "display_name": "Python 3 (ipykernel)",
   "language": "python",
   "name": "python3"
  },
  "language_info": {
   "codemirror_mode": {
    "name": "ipython",
    "version": 3
   },
   "file_extension": ".py",
   "mimetype": "text/x-python",
   "name": "python",
   "nbconvert_exporter": "python",
   "pygments_lexer": "ipython3",
   "version": "3.10.1"
  }
 },
 "nbformat": 4,
 "nbformat_minor": 5
}
